{
  "nbformat": 4,
  "nbformat_minor": 0,
  "metadata": {
    "colab": {
      "provenance": []
    },
    "kernelspec": {
      "name": "python3",
      "display_name": "Python 3"
    },
    "language_info": {
      "name": "python"
    }
  },
  "cells": [
    {
      "cell_type": "code",
      "execution_count": null,
      "metadata": {
        "id": "YfAeGouijaK6"
      },
      "outputs": [],
      "source": [
        "import numpy as np\n",
        "import pandas as pd\n",
        "def generateMultivateNormalDistribution(nCenters, nPointsPerCenter, std):\n",
        "    centers = np.random.rand(nCenters, 2) * 2 - 1  # Gera nCenter centros com coordenadas entre -1 e 1\n",
        "\n",
        "    data = []\n",
        "    labels = []\n",
        "\n",
        "    # Para cada centro, gera pontos em torno dele\n",
        "    for i, center in enumerate(centers):\n",
        "        points = np.random.multivariate_normal(center, np.eye(2) * std, nPointsPerCenter)\n",
        "        data.append(points)\n",
        "        labels.append(np.full(nPointsPerCenter, i))\n",
        "\n",
        "    # Concatena todos os pontos e rótulos\n",
        "    data = np.vstack(data)\n",
        "    labels = np.concatenate(labels)\n",
        "\n",
        "    # Adiciona os rótulos como a última coluna na matriz de dados\n",
        "    labeledData = np.column_stack((data, labels))\n",
        "\n",
        "    return labeledData\n",
        "\n",
        "\n"
      ]
    },
    {
      "cell_type": "code",
      "source": [
        "for i in range(10):\n",
        "  nCenters = np.random.randint(2,11)\n",
        "  nPointsPerCenter = np.random.randint(350, 400)\n",
        "  std = 0.01 + i * 0.01\n",
        "  labeled_data = generateMultivateNormalDistribution(nCenters, nPointsPerCenter, std)\n",
        "  df = pd.DataFrame(labeled_data, columns=['x', 'y', 'i'])\n",
        "  df.to_csv(f'center_{nCenters}_data_{i}_std_{int(std * 100)}.csv', index=False, header=False)"
      ],
      "metadata": {
        "id": "hbXthxueyAZf"
      },
      "execution_count": null,
      "outputs": []
    },
    {
      "cell_type": "code",
      "source": [
        "# Exemplo de uso\n",
        "nCenters = 10\n",
        "nPointsPerCenter = 100\n",
        "std = 0.1  # Desvio padrão para controle da dispersão dos pontos\n",
        "\n",
        "labeled_data = generateMultivateNormalDistribution(nCenters, nPointsPerCenter, std)\n",
        "\n",
        "# Opcional: Visualizar os dados gerados\n",
        "import matplotlib.pyplot as plt\n",
        "\n",
        "plt.figure()\n",
        "for i in range(nCenters):\n",
        "    plt.scatter(labeled_data[labeled_data[:, 2] == i, 0], labeled_data[labeled_data[:, 2] == i, 1], label=f'Center {i}')\n",
        "plt.legend()\n",
        "plt.show()"
      ],
      "metadata": {
        "id": "XCLSH_-Wx70r"
      },
      "execution_count": null,
      "outputs": []
    }
  ]
}